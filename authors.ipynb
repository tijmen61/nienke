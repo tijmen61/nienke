{
 "cells": [
  {
   "cell_type": "code",
   "outputs": [],
   "source": [
    "import polars as pl"
   ],
   "metadata": {
    "collapsed": false,
    "ExecuteTime": {
     "end_time": "2024-03-28T10:02:07.775448Z",
     "start_time": "2024-03-28T10:02:07.772885Z"
    }
   },
   "id": "682d07ff90ec10d8",
   "execution_count": 2
  },
  {
   "cell_type": "code",
   "execution_count": 3,
   "id": "initial_id",
   "metadata": {
    "collapsed": true,
    "ExecuteTime": {
     "end_time": "2024-03-28T10:02:07.796841Z",
     "start_time": "2024-03-28T10:02:07.777193Z"
    }
   },
   "outputs": [],
   "source": [
    "df_primary = pl.read_csv('results/COMBINED.CSV')"
   ]
  },
  {
   "cell_type": "code",
   "outputs": [],
   "source": [
    "df_authors = pl.read_json('authors.json')"
   ],
   "metadata": {
    "collapsed": false,
    "ExecuteTime": {
     "end_time": "2024-03-28T10:02:07.801179Z",
     "start_time": "2024-03-28T10:02:07.797845Z"
    }
   },
   "id": "3d278d32b10586dc",
   "execution_count": 4
  },
  {
   "cell_type": "code",
   "outputs": [],
   "source": [
    "df_primary_with_articles = df_primary.join(df_authors, left_on=\"Profile_ID\", right_on=\"Author_ID\", how=\"left\")\n"
   ],
   "metadata": {
    "collapsed": false,
    "ExecuteTime": {
     "end_time": "2024-03-28T10:02:07.807349Z",
     "start_time": "2024-03-28T10:02:07.801854Z"
    }
   },
   "id": "9ef41f366132525d",
   "execution_count": 5
  },
  {
   "cell_type": "code",
   "outputs": [
    {
     "data": {
      "text/plain": "shape: (15_270, 22)\n┌───────────┬───────────┬───────────┬───────────┬───┬───────────┬───────────┬───────────┬──────────┐\n│ Profile_I ┆ NPI       ┆ First_Nam ┆ Middle_Na ┆ … ┆ Product_I ┆ Name_of_A ┆ Name_of_A ┆ Contribu │\n│ D         ┆ ---       ┆ e         ┆ me        ┆   ┆ ndicator  ┆ ssociated ┆ ssociated ┆ ted_Arti │\n│ ---       ┆ i64       ┆ ---       ┆ ---       ┆   ┆ ---       ┆ _Covered_ ┆ _Covered_ ┆ cles     │\n│ i64       ┆           ┆ str       ┆ str       ┆   ┆ str       ┆ Drug_…    ┆ Devic…    ┆ ---      │\n│           ┆           ┆           ┆           ┆   ┆           ┆ ---       ┆ ---       ┆ list[i32 │\n│           ┆           ┆           ┆           ┆   ┆           ┆ str       ┆ str       ┆ ]        │\n╞═══════════╪═══════════╪═══════════╪═══════════╪═══╪═══════════╪═══════════╪═══════════╪══════════╡\n│ 112106    ┆ 147771466 ┆ Nirav     ┆ null      ┆ … ┆ null      ┆ null      ┆ null      ┆ [22]     │\n│           ┆ 5         ┆           ┆           ┆   ┆           ┆           ┆           ┆          │\n│ 112106    ┆ 147771466 ┆ Nirav     ┆ null      ┆ … ┆ null      ┆ null      ┆ null      ┆ [22]     │\n│           ┆ 5         ┆           ┆           ┆   ┆           ┆           ┆           ┆          │\n│ 112106    ┆ 147771466 ┆ Nirav     ┆ null      ┆ … ┆ null      ┆ null      ┆ null      ┆ [22]     │\n│           ┆ 5         ┆           ┆           ┆   ┆           ┆           ┆           ┆          │\n│ 112106    ┆ 147771466 ┆ Nirav     ┆ null      ┆ … ┆ null      ┆ null      ┆ null      ┆ [22]     │\n│           ┆ 5         ┆           ┆           ┆   ┆           ┆           ┆           ┆          │\n│ 112106    ┆ 147771466 ┆ Nirav     ┆ null      ┆ … ┆ null      ┆ null      ┆ null      ┆ [22]     │\n│           ┆ 5         ┆           ┆           ┆   ┆           ┆           ┆           ┆          │\n│ …         ┆ …         ┆ …         ┆ …         ┆ … ┆ …         ┆ …         ┆ …         ┆ …        │\n│ 1152009   ┆ null      ┆ TIMOTHY   ┆ null      ┆ … ┆ Covered   ┆ null      ┆ Soft      ┆ [5, 10]  │\n│           ┆           ┆           ┆           ┆   ┆           ┆           ┆ Tissue    ┆          │\n│           ┆           ┆           ┆           ┆   ┆           ┆           ┆ Release   ┆          │\n│ 1152009   ┆ null      ┆ TIMOTHY   ┆ null      ┆ … ┆ Covered   ┆ null      ┆ Soft      ┆ [5, 10]  │\n│           ┆           ┆           ┆           ┆   ┆           ┆           ┆ Tissue    ┆          │\n│           ┆           ┆           ┆           ┆   ┆           ┆           ┆ Release   ┆          │\n│ 1232897   ┆ null      ┆ Kurt      ┆ null      ┆ … ┆ Combinati ┆ null      ┆ Bone Stim ┆ [26]     │\n│           ┆           ┆           ┆           ┆   ┆ on        ┆           ┆ ulator    ┆          │\n│ 60451     ┆ null      ┆ Harry     ┆ A         ┆ … ┆ null      ┆ null      ┆ null      ┆ [5, 6]   │\n│ 120090    ┆ null      ┆ STEVEN    ┆ I         ┆ … ┆ null      ┆ null      ┆ null      ┆ [11]     │\n└───────────┴───────────┴───────────┴───────────┴───┴───────────┴───────────┴───────────┴──────────┘",
      "text/html": "<div><style>\n.dataframe > thead > tr,\n.dataframe > tbody > tr {\n  text-align: right;\n  white-space: pre-wrap;\n}\n</style>\n<small>shape: (15_270, 22)</small><table border=\"1\" class=\"dataframe\"><thead><tr><th>Profile_ID</th><th>NPI</th><th>First_Name</th><th>Middle_Name</th><th>Last_Name</th><th>Program_Year</th><th>Total_Amount_Invested_USDollars</th><th>Value_of_Interest</th><th>Terms_of_Interest</th><th>Applicable_Manufacturer_or_Applicable_GPO_Making_Payment_Name</th><th>Category</th><th>Indicate_Drug_or_Biological_or_Device_or_Medical_Supply_1</th><th>Product_Category_or_Therapeutic_Area_1</th><th>Name_of_Drug_or_Biological_or_Device_or_Medical_Supply_1</th><th>Total_Amount_of_Payment_USDollars</th><th>Form_of_Payment_or_Transfer_of_Value</th><th>Name_of_Study</th><th>Nature_of_Payment_or_Transfer_of_Value</th><th>Product_Indicator</th><th>Name_of_Associated_Covered_Drug_or_Biological1</th><th>Name_of_Associated_Covered_Device_or_Medical_Supply1</th><th>Contributed_Articles</th></tr><tr><td>i64</td><td>i64</td><td>str</td><td>str</td><td>str</td><td>i64</td><td>f64</td><td>f64</td><td>str</td><td>str</td><td>str</td><td>str</td><td>str</td><td>str</td><td>f64</td><td>str</td><td>str</td><td>str</td><td>str</td><td>str</td><td>str</td><td>list[i32]</td></tr></thead><tbody><tr><td>112106</td><td>1477714665</td><td>&quot;Nirav&quot;</td><td>null</td><td>&quot;Amin&quot;</td><td>2020</td><td>450000.0</td><td>533629.0</td><td>&quot;Series C Stock…</td><td>&quot;Trice Medical,…</td><td>&quot;OWNRSHP&quot;</td><td>null</td><td>null</td><td>null</td><td>null</td><td>null</td><td>null</td><td>null</td><td>null</td><td>null</td><td>null</td><td>[22]</td></tr><tr><td>112106</td><td>1477714665</td><td>&quot;Nirav&quot;</td><td>null</td><td>&quot;Amin&quot;</td><td>2020</td><td>0.0</td><td>462.13</td><td>&quot;stock options&quot;</td><td>&quot;Trice Medical,…</td><td>&quot;OWNRSHP&quot;</td><td>null</td><td>null</td><td>null</td><td>null</td><td>null</td><td>null</td><td>null</td><td>null</td><td>null</td><td>null</td><td>[22]</td></tr><tr><td>112106</td><td>1477714665</td><td>&quot;Nirav&quot;</td><td>null</td><td>&quot;Amin&quot;</td><td>2020</td><td>0.0</td><td>488.13</td><td>&quot;stock options&quot;</td><td>&quot;Trice Medical,…</td><td>&quot;OWNRSHP&quot;</td><td>null</td><td>null</td><td>null</td><td>null</td><td>null</td><td>null</td><td>null</td><td>null</td><td>null</td><td>null</td><td>[22]</td></tr><tr><td>112106</td><td>1477714665</td><td>&quot;Nirav&quot;</td><td>null</td><td>&quot;Amin&quot;</td><td>2020</td><td>0.0</td><td>611.55</td><td>&quot;stock options&quot;</td><td>&quot;Trice Medical,…</td><td>&quot;OWNRSHP&quot;</td><td>null</td><td>null</td><td>null</td><td>null</td><td>null</td><td>null</td><td>null</td><td>null</td><td>null</td><td>null</td><td>[22]</td></tr><tr><td>112106</td><td>1477714665</td><td>&quot;Nirav&quot;</td><td>null</td><td>&quot;Amin&quot;</td><td>2020</td><td>0.0</td><td>351.0</td><td>&quot;stock options&quot;</td><td>&quot;Trice Medical,…</td><td>&quot;OWNRSHP&quot;</td><td>null</td><td>null</td><td>null</td><td>null</td><td>null</td><td>null</td><td>null</td><td>null</td><td>null</td><td>null</td><td>[22]</td></tr><tr><td>&hellip;</td><td>&hellip;</td><td>&hellip;</td><td>&hellip;</td><td>&hellip;</td><td>&hellip;</td><td>&hellip;</td><td>&hellip;</td><td>&hellip;</td><td>&hellip;</td><td>&hellip;</td><td>&hellip;</td><td>&hellip;</td><td>&hellip;</td><td>&hellip;</td><td>&hellip;</td><td>&hellip;</td><td>&hellip;</td><td>&hellip;</td><td>&hellip;</td><td>&hellip;</td><td>&hellip;</td></tr><tr><td>1152009</td><td>null</td><td>&quot;TIMOTHY&quot;</td><td>null</td><td>&quot;NIACARIS&quot;</td><td>2013</td><td>null</td><td>null</td><td>null</td><td>&quot;MicroAire Surg…</td><td>&quot;GNRL&quot;</td><td>null</td><td>null</td><td>null</td><td>582.6</td><td>&quot;Cash or cash e…</td><td>null</td><td>&quot;Travel and Lod…</td><td>&quot;Covered&quot;</td><td>null</td><td>&quot;Soft Tissue Re…</td><td>[5, 10]</td></tr><tr><td>1152009</td><td>null</td><td>&quot;TIMOTHY&quot;</td><td>null</td><td>&quot;NIACARIS&quot;</td><td>2013</td><td>null</td><td>null</td><td>null</td><td>&quot;MicroAire Surg…</td><td>&quot;GNRL&quot;</td><td>null</td><td>null</td><td>null</td><td>582.6</td><td>&quot;Cash or cash e…</td><td>null</td><td>&quot;Travel and Lod…</td><td>&quot;Covered&quot;</td><td>null</td><td>&quot;Soft Tissue Re…</td><td>[5, 10]</td></tr><tr><td>1232897</td><td>null</td><td>&quot;Kurt&quot;</td><td>null</td><td>&quot;Anderson&quot;</td><td>2013</td><td>null</td><td>null</td><td>null</td><td>&quot;Synergy Medica…</td><td>&quot;GNRL&quot;</td><td>null</td><td>null</td><td>null</td><td>38.9</td><td>&quot;Cash or cash e…</td><td>null</td><td>&quot;Food and Bever…</td><td>&quot;Combination&quot;</td><td>null</td><td>&quot;Bone Stimulato…</td><td>[26]</td></tr><tr><td>60451</td><td>null</td><td>&quot;Harry&quot;</td><td>&quot;A&quot;</td><td>&quot;Hoyen&quot;</td><td>2013</td><td>100000.0</td><td>85000.0</td><td>&quot;Preferred Seri…</td><td>&quot;NovoSource, In…</td><td>&quot;OWNRSHP&quot;</td><td>null</td><td>null</td><td>null</td><td>null</td><td>null</td><td>null</td><td>null</td><td>null</td><td>null</td><td>null</td><td>[5, 6]</td></tr><tr><td>120090</td><td>null</td><td>&quot;STEVEN&quot;</td><td>&quot;I&quot;</td><td>&quot;MORAN&quot;</td><td>2013</td><td>27000.0</td><td>48100.0</td><td>&quot;COMMON STOCK O…</td><td>&quot;AXOGEN&quot;</td><td>&quot;OWNRSHP&quot;</td><td>null</td><td>null</td><td>null</td><td>null</td><td>null</td><td>null</td><td>null</td><td>null</td><td>null</td><td>null</td><td>[11]</td></tr></tbody></table></div>"
     },
     "execution_count": 13,
     "metadata": {},
     "output_type": "execute_result"
    }
   ],
   "source": [
    "df_primary_with_articles"
   ],
   "metadata": {
    "collapsed": false,
    "ExecuteTime": {
     "end_time": "2024-03-28T10:06:34.444807Z",
     "start_time": "2024-03-28T10:06:34.438919Z"
    }
   },
   "id": "6e2423455bfea9a0",
   "execution_count": 13
  },
  {
   "cell_type": "code",
   "outputs": [],
   "source": [
    "df_primary_with_articles_string = df_primary_with_articles.with_columns(\n",
    "    pl.col(\"Contributed_Articles\").map_elements(lambda x: ', '.join(map(str, x))).alias(\"Contributed_Articles\")\n",
    "    )"
   ],
   "metadata": {
    "collapsed": false,
    "ExecuteTime": {
     "end_time": "2024-03-28T10:07:07.740105Z",
     "start_time": "2024-03-28T10:07:07.670844Z"
    }
   },
   "id": "8022507ea02b4dd2",
   "execution_count": 17
  },
  {
   "cell_type": "code",
   "outputs": [
    {
     "data": {
      "text/plain": "shape: (15_270, 22)\n┌───────────┬───────────┬───────────┬───────────┬───┬───────────┬───────────┬───────────┬──────────┐\n│ Profile_I ┆ NPI       ┆ First_Nam ┆ Middle_Na ┆ … ┆ Product_I ┆ Name_of_A ┆ Name_of_A ┆ Contribu │\n│ D         ┆ ---       ┆ e         ┆ me        ┆   ┆ ndicator  ┆ ssociated ┆ ssociated ┆ ted_Arti │\n│ ---       ┆ i64       ┆ ---       ┆ ---       ┆   ┆ ---       ┆ _Covered_ ┆ _Covered_ ┆ cles     │\n│ i64       ┆           ┆ str       ┆ str       ┆   ┆ str       ┆ Drug_…    ┆ Devic…    ┆ ---      │\n│           ┆           ┆           ┆           ┆   ┆           ┆ ---       ┆ ---       ┆ str      │\n│           ┆           ┆           ┆           ┆   ┆           ┆ str       ┆ str       ┆          │\n╞═══════════╪═══════════╪═══════════╪═══════════╪═══╪═══════════╪═══════════╪═══════════╪══════════╡\n│ 112106    ┆ 147771466 ┆ Nirav     ┆ null      ┆ … ┆ null      ┆ null      ┆ null      ┆ 22       │\n│           ┆ 5         ┆           ┆           ┆   ┆           ┆           ┆           ┆          │\n│ 112106    ┆ 147771466 ┆ Nirav     ┆ null      ┆ … ┆ null      ┆ null      ┆ null      ┆ 22       │\n│           ┆ 5         ┆           ┆           ┆   ┆           ┆           ┆           ┆          │\n│ 112106    ┆ 147771466 ┆ Nirav     ┆ null      ┆ … ┆ null      ┆ null      ┆ null      ┆ 22       │\n│           ┆ 5         ┆           ┆           ┆   ┆           ┆           ┆           ┆          │\n│ 112106    ┆ 147771466 ┆ Nirav     ┆ null      ┆ … ┆ null      ┆ null      ┆ null      ┆ 22       │\n│           ┆ 5         ┆           ┆           ┆   ┆           ┆           ┆           ┆          │\n│ 112106    ┆ 147771466 ┆ Nirav     ┆ null      ┆ … ┆ null      ┆ null      ┆ null      ┆ 22       │\n│           ┆ 5         ┆           ┆           ┆   ┆           ┆           ┆           ┆          │\n│ …         ┆ …         ┆ …         ┆ …         ┆ … ┆ …         ┆ …         ┆ …         ┆ …        │\n│ 1152009   ┆ null      ┆ TIMOTHY   ┆ null      ┆ … ┆ Covered   ┆ null      ┆ Soft      ┆ 5, 10    │\n│           ┆           ┆           ┆           ┆   ┆           ┆           ┆ Tissue    ┆          │\n│           ┆           ┆           ┆           ┆   ┆           ┆           ┆ Release   ┆          │\n│ 1152009   ┆ null      ┆ TIMOTHY   ┆ null      ┆ … ┆ Covered   ┆ null      ┆ Soft      ┆ 5, 10    │\n│           ┆           ┆           ┆           ┆   ┆           ┆           ┆ Tissue    ┆          │\n│           ┆           ┆           ┆           ┆   ┆           ┆           ┆ Release   ┆          │\n│ 1232897   ┆ null      ┆ Kurt      ┆ null      ┆ … ┆ Combinati ┆ null      ┆ Bone Stim ┆ 26       │\n│           ┆           ┆           ┆           ┆   ┆ on        ┆           ┆ ulator    ┆          │\n│ 60451     ┆ null      ┆ Harry     ┆ A         ┆ … ┆ null      ┆ null      ┆ null      ┆ 5, 6     │\n│ 120090    ┆ null      ┆ STEVEN    ┆ I         ┆ … ┆ null      ┆ null      ┆ null      ┆ 11       │\n└───────────┴───────────┴───────────┴───────────┴───┴───────────┴───────────┴───────────┴──────────┘",
      "text/html": "<div><style>\n.dataframe > thead > tr,\n.dataframe > tbody > tr {\n  text-align: right;\n  white-space: pre-wrap;\n}\n</style>\n<small>shape: (15_270, 22)</small><table border=\"1\" class=\"dataframe\"><thead><tr><th>Profile_ID</th><th>NPI</th><th>First_Name</th><th>Middle_Name</th><th>Last_Name</th><th>Program_Year</th><th>Total_Amount_Invested_USDollars</th><th>Value_of_Interest</th><th>Terms_of_Interest</th><th>Applicable_Manufacturer_or_Applicable_GPO_Making_Payment_Name</th><th>Category</th><th>Indicate_Drug_or_Biological_or_Device_or_Medical_Supply_1</th><th>Product_Category_or_Therapeutic_Area_1</th><th>Name_of_Drug_or_Biological_or_Device_or_Medical_Supply_1</th><th>Total_Amount_of_Payment_USDollars</th><th>Form_of_Payment_or_Transfer_of_Value</th><th>Name_of_Study</th><th>Nature_of_Payment_or_Transfer_of_Value</th><th>Product_Indicator</th><th>Name_of_Associated_Covered_Drug_or_Biological1</th><th>Name_of_Associated_Covered_Device_or_Medical_Supply1</th><th>Contributed_Articles</th></tr><tr><td>i64</td><td>i64</td><td>str</td><td>str</td><td>str</td><td>i64</td><td>f64</td><td>f64</td><td>str</td><td>str</td><td>str</td><td>str</td><td>str</td><td>str</td><td>f64</td><td>str</td><td>str</td><td>str</td><td>str</td><td>str</td><td>str</td><td>str</td></tr></thead><tbody><tr><td>112106</td><td>1477714665</td><td>&quot;Nirav&quot;</td><td>null</td><td>&quot;Amin&quot;</td><td>2020</td><td>450000.0</td><td>533629.0</td><td>&quot;Series C Stock…</td><td>&quot;Trice Medical,…</td><td>&quot;OWNRSHP&quot;</td><td>null</td><td>null</td><td>null</td><td>null</td><td>null</td><td>null</td><td>null</td><td>null</td><td>null</td><td>null</td><td>&quot;22&quot;</td></tr><tr><td>112106</td><td>1477714665</td><td>&quot;Nirav&quot;</td><td>null</td><td>&quot;Amin&quot;</td><td>2020</td><td>0.0</td><td>462.13</td><td>&quot;stock options&quot;</td><td>&quot;Trice Medical,…</td><td>&quot;OWNRSHP&quot;</td><td>null</td><td>null</td><td>null</td><td>null</td><td>null</td><td>null</td><td>null</td><td>null</td><td>null</td><td>null</td><td>&quot;22&quot;</td></tr><tr><td>112106</td><td>1477714665</td><td>&quot;Nirav&quot;</td><td>null</td><td>&quot;Amin&quot;</td><td>2020</td><td>0.0</td><td>488.13</td><td>&quot;stock options&quot;</td><td>&quot;Trice Medical,…</td><td>&quot;OWNRSHP&quot;</td><td>null</td><td>null</td><td>null</td><td>null</td><td>null</td><td>null</td><td>null</td><td>null</td><td>null</td><td>null</td><td>&quot;22&quot;</td></tr><tr><td>112106</td><td>1477714665</td><td>&quot;Nirav&quot;</td><td>null</td><td>&quot;Amin&quot;</td><td>2020</td><td>0.0</td><td>611.55</td><td>&quot;stock options&quot;</td><td>&quot;Trice Medical,…</td><td>&quot;OWNRSHP&quot;</td><td>null</td><td>null</td><td>null</td><td>null</td><td>null</td><td>null</td><td>null</td><td>null</td><td>null</td><td>null</td><td>&quot;22&quot;</td></tr><tr><td>112106</td><td>1477714665</td><td>&quot;Nirav&quot;</td><td>null</td><td>&quot;Amin&quot;</td><td>2020</td><td>0.0</td><td>351.0</td><td>&quot;stock options&quot;</td><td>&quot;Trice Medical,…</td><td>&quot;OWNRSHP&quot;</td><td>null</td><td>null</td><td>null</td><td>null</td><td>null</td><td>null</td><td>null</td><td>null</td><td>null</td><td>null</td><td>&quot;22&quot;</td></tr><tr><td>&hellip;</td><td>&hellip;</td><td>&hellip;</td><td>&hellip;</td><td>&hellip;</td><td>&hellip;</td><td>&hellip;</td><td>&hellip;</td><td>&hellip;</td><td>&hellip;</td><td>&hellip;</td><td>&hellip;</td><td>&hellip;</td><td>&hellip;</td><td>&hellip;</td><td>&hellip;</td><td>&hellip;</td><td>&hellip;</td><td>&hellip;</td><td>&hellip;</td><td>&hellip;</td><td>&hellip;</td></tr><tr><td>1152009</td><td>null</td><td>&quot;TIMOTHY&quot;</td><td>null</td><td>&quot;NIACARIS&quot;</td><td>2013</td><td>null</td><td>null</td><td>null</td><td>&quot;MicroAire Surg…</td><td>&quot;GNRL&quot;</td><td>null</td><td>null</td><td>null</td><td>582.6</td><td>&quot;Cash or cash e…</td><td>null</td><td>&quot;Travel and Lod…</td><td>&quot;Covered&quot;</td><td>null</td><td>&quot;Soft Tissue Re…</td><td>&quot;5, 10&quot;</td></tr><tr><td>1152009</td><td>null</td><td>&quot;TIMOTHY&quot;</td><td>null</td><td>&quot;NIACARIS&quot;</td><td>2013</td><td>null</td><td>null</td><td>null</td><td>&quot;MicroAire Surg…</td><td>&quot;GNRL&quot;</td><td>null</td><td>null</td><td>null</td><td>582.6</td><td>&quot;Cash or cash e…</td><td>null</td><td>&quot;Travel and Lod…</td><td>&quot;Covered&quot;</td><td>null</td><td>&quot;Soft Tissue Re…</td><td>&quot;5, 10&quot;</td></tr><tr><td>1232897</td><td>null</td><td>&quot;Kurt&quot;</td><td>null</td><td>&quot;Anderson&quot;</td><td>2013</td><td>null</td><td>null</td><td>null</td><td>&quot;Synergy Medica…</td><td>&quot;GNRL&quot;</td><td>null</td><td>null</td><td>null</td><td>38.9</td><td>&quot;Cash or cash e…</td><td>null</td><td>&quot;Food and Bever…</td><td>&quot;Combination&quot;</td><td>null</td><td>&quot;Bone Stimulato…</td><td>&quot;26&quot;</td></tr><tr><td>60451</td><td>null</td><td>&quot;Harry&quot;</td><td>&quot;A&quot;</td><td>&quot;Hoyen&quot;</td><td>2013</td><td>100000.0</td><td>85000.0</td><td>&quot;Preferred Seri…</td><td>&quot;NovoSource, In…</td><td>&quot;OWNRSHP&quot;</td><td>null</td><td>null</td><td>null</td><td>null</td><td>null</td><td>null</td><td>null</td><td>null</td><td>null</td><td>null</td><td>&quot;5, 6&quot;</td></tr><tr><td>120090</td><td>null</td><td>&quot;STEVEN&quot;</td><td>&quot;I&quot;</td><td>&quot;MORAN&quot;</td><td>2013</td><td>27000.0</td><td>48100.0</td><td>&quot;COMMON STOCK O…</td><td>&quot;AXOGEN&quot;</td><td>&quot;OWNRSHP&quot;</td><td>null</td><td>null</td><td>null</td><td>null</td><td>null</td><td>null</td><td>null</td><td>null</td><td>null</td><td>null</td><td>&quot;11&quot;</td></tr></tbody></table></div>"
     },
     "execution_count": 18,
     "metadata": {},
     "output_type": "execute_result"
    }
   ],
   "source": [
    "df_primary_with_articles_string"
   ],
   "metadata": {
    "collapsed": false,
    "ExecuteTime": {
     "end_time": "2024-03-28T10:07:08.133765Z",
     "start_time": "2024-03-28T10:07:08.128654Z"
    }
   },
   "id": "d8dc7cc0597f2e16",
   "execution_count": 18
  },
  {
   "cell_type": "code",
   "outputs": [],
   "source": [
    "df_primary_with_articles_string.write_csv('results/COMBINED_NEW.csv')"
   ],
   "metadata": {
    "collapsed": false,
    "ExecuteTime": {
     "end_time": "2024-03-28T10:07:10.157544Z",
     "start_time": "2024-03-28T10:07:10.142053Z"
    }
   },
   "id": "476b97da0bf5c9b3",
   "execution_count": 19
  }
 ],
 "metadata": {
  "kernelspec": {
   "display_name": "Python 3",
   "language": "python",
   "name": "python3"
  },
  "language_info": {
   "codemirror_mode": {
    "name": "ipython",
    "version": 2
   },
   "file_extension": ".py",
   "mimetype": "text/x-python",
   "name": "python",
   "nbconvert_exporter": "python",
   "pygments_lexer": "ipython2",
   "version": "2.7.6"
  }
 },
 "nbformat": 4,
 "nbformat_minor": 5
}
